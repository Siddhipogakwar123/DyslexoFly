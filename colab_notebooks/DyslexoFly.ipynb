{
  "cells": [
    {
      "cell_type": "code",
      "execution_count": null,
      "metadata": {
        "collapsed": true,
        "id": "8bdb3ff5"
      },
      "outputs": [],
      "source": [
        "!pip install torch pyngrok\n",
        "!pip install python-dotenv\n",
        "!pip install langdetect\n",
        "!pip install transformers\n",
        "!pip install -r requirements.txt\n",
        "!pip install python-magic"
      ]
    },
    {
      "cell_type": "code",
      "execution_count": null,
      "metadata": {
        "id": "Yol7fagCFBCe"
      },
      "outputs": [],
      "source": [
        "!unzip services.zip -d .\n",
        "!unzip audio_outputs.zip -d ."
      ]
    },
    {
      "cell_type": "code",
      "execution_count": null,
      "metadata": {
        "id": "57755ef6"
      },
      "outputs": [],
      "source": [
        "from pyngrok import ngrok\n",
        "import os\n",
        "from dotenv import load_dotenv\n",
        "\n",
        "load_dotenv()\n",
        "\n",
        "ngrok_auth_token = os.getenv(\"NGROK_AUTH_TOKEN\")\n",
        "\n",
        "if ngrok_auth_token is None:\n",
        "    raise ValueError(\"NGROK_AUTH_TOKEN is not set in the environment!\")\n",
        "\n",
        "ngrok.set_auth_token(ngrok_auth_token)\n",
        "\n",
        "# Now you can try connecting again\n",
        "# public_url = ngrok.connect(5000)\n",
        "# print(\" * ngrok tunnel:\", public_url)"
      ]
    },
    {
      "cell_type": "code",
      "execution_count": null,
      "metadata": {
        "id": "OkuEYGYU-AFd"
      },
      "outputs": [],
      "source": [
        "from pyngrok import ngrok\n",
        "\n",
        "# Open a tunnel on port 5000 for Flask\n",
        "public_url = ngrok.connect(5000)\n",
        "print(\" * ngrok tunnel:\", public_url)"
      ]
    },
    {
      "cell_type": "code",
      "execution_count": null,
      "metadata": {
        "id": "EGKLDbVEHWRQ"
      },
      "outputs": [],
      "source": [
        "!pip install --upgrade --ignore-installed flask\n",
        "!pip install --upgrade --ignore-installed flask_cors"
      ]
    },
    {
      "cell_type": "code",
      "execution_count": null,
      "metadata": {
        "id": "IraHsH3nJKHc"
      },
      "outputs": [],
      "source": [
        "!pip install PyPDF2\n",
        "!pip install python-docx"
      ]
    },
    {
      "cell_type": "code",
      "execution_count": null,
      "metadata": {
        "colab": {
          "base_uri": "https://localhost:8080/"
        },
        "id": "PbppHQf1_c2D",
        "outputId": "9f0bda10-ee87-478a-ab67-004ee973efdd"
      },
      "outputs": [
        {
          "name": "stdout",
          "output_type": "stream",
          "text": [
            "2025-07-07 16:05:53.562461: E external/local_xla/xla/stream_executor/cuda/cuda_fft.cc:477] Unable to register cuFFT factory: Attempting to register factory for plugin cuFFT when one has already been registered\n",
            "WARNING: All log messages before absl::InitializeLog() is called are written to STDERR\n",
            "E0000 00:00:1751904353.582061    1270 cuda_dnn.cc:8310] Unable to register cuDNN factory: Attempting to register factory for plugin cuDNN when one has already been registered\n",
            "E0000 00:00:1751904353.588285    1270 cuda_blas.cc:1418] Unable to register cuBLAS factory: Attempting to register factory for plugin cuBLAS when one has already been registered\n",
            "2025-07-07 16:05:53.609751: I tensorflow/core/platform/cpu_feature_guard.cc:210] This TensorFlow binary is optimized to use available CPU instructions in performance-critical operations.\n",
            "To enable the following instructions: AVX2 AVX512F FMA, in other operations, rebuild TensorFlow with the appropriate compiler flags.\n",
            "config.json: 1.80kB [00:00, 9.60MB/s]\n",
            "pytorch_model.bin: 100% 1.22G/1.22G [00:07<00:00, 159MB/s]\n",
            "model.safetensors:   6% 73.4M/1.22G [00:01<00:11, 99.7MB/s]\n",
            "tokenizer_config.json: 100% 26.0/26.0 [00:00<00:00, 147kB/s]\n",
            "model.safetensors:  11% 136M/1.22G [00:01<00:06, 167MB/s]\n",
            "vocab.json: 899kB [00:00, 26.0MB/s]\n",
            "model.safetensors:  14% 168M/1.22G [00:01<00:05, 190MB/s]\n",
            "merges.txt: 456kB [00:00, 74.0MB/s]\n",
            "model.safetensors:  21% 262M/1.22G [00:01<00:04, 228MB/s]Device set to use cuda:0\n",
            "model.safetensors:  37% 451M/1.22G [00:02<00:03, 212MB/s]\n",
            "config.json: 100% 730/730 [00:00<00:00, 3.54MB/s]\n",
            "model.safetensors:  47% 577M/1.22G [00:03<00:02, 244MB/s]\n",
            "model.safetensors:  50% 608M/1.22G [00:03<00:02, 242MB/s]\n",
            "pytorch_model.bin:   1% 21.0M/2.33G [00:00<00:13, 172MB/s]\u001b[A\n",
            "model.safetensors:  52% 640M/1.22G [00:03<00:02, 226MB/s]\n",
            "model.safetensors:  55% 671M/1.22G [00:06<00:18, 29.5MB/s]\n",
            "model.safetensors:  57% 692M/1.22G [00:07<00:14, 36.1MB/s]\n",
            "model.safetensors:  58% 713M/1.22G [00:07<00:11, 44.2MB/s]\n",
            "model.safetensors:  60% 734M/1.22G [00:07<00:09, 52.7MB/s]\n",
            "model.safetensors:  62% 755M/1.22G [00:07<00:07, 63.8MB/s]\n",
            "model.safetensors:  63% 776M/1.22G [00:07<00:05, 75.7MB/s]\n",
            "model.safetensors:  65% 797M/1.22G [00:07<00:04, 85.5MB/s]\n",
            "model.safetensors:  67% 818M/1.22G [00:07<00:04, 97.2MB/s]\n",
            "model.safetensors:  69% 839M/1.22G [00:08<00:03, 109MB/s] \n",
            "model.safetensors:  70% 860M/1.22G [00:08<00:03, 115MB/s]\n",
            "model.safetensors:  72% 881M/1.22G [00:08<00:02, 122MB/s]\n",
            "model.safetensors:  74% 902M/1.22G [00:08<00:02, 139MB/s]\n",
            "model.safetensors:  75% 923M/1.22G [00:08<00:02, 139MB/s]\n",
            "model.safetensors:  77% 944M/1.22G [00:08<00:02, 136MB/s]\n",
            "model.safetensors:  79% 965M/1.22G [00:09<00:01, 136MB/s]\n",
            "model.safetensors:  81% 986M/1.22G [00:09<00:01, 135MB/s]\n",
            "model.safetensors:  82% 1.01G/1.22G [00:09<00:01, 138MB/s]\n",
            "model.safetensors:  84% 1.03G/1.22G [00:09<00:01, 152MB/s]\n",
            "model.safetensors:  86% 1.05G/1.22G [00:09<00:01, 134MB/s]\n",
            "model.safetensors:  88% 1.07G/1.22G [00:09<00:01, 135MB/s]\n",
            "model.safetensors:  89% 1.09G/1.22G [00:09<00:00, 139MB/s]\n",
            "model.safetensors:  91% 1.11G/1.22G [00:10<00:00, 134MB/s]\n",
            "model.safetensors:  93% 1.13G/1.22G [00:10<00:00, 126MB/s]\n",
            "model.safetensors:  94% 1.15G/1.22G [00:10<00:00, 122MB/s]\n",
            "model.safetensors:  96% 1.17G/1.22G [00:10<00:00, 128MB/s]\n",
            "model.safetensors:  98% 1.20G/1.22G [00:10<00:00, 131MB/s]\n",
            "model.safetensors: 100% 1.22G/1.22G [00:10<00:00, 131MB/s]\n",
            "model.safetensors: 100% 1.22G/1.22G [00:13<00:00, 93.9MB/s]\n",
            "\n",
            "pytorch_model.bin:  28% 661M/2.33G [00:09<00:58, 28.4MB/s]\u001b[A\n",
            "pytorch_model.bin:  30% 692M/2.33G [00:09<00:37, 43.5MB/s]\u001b[A\n",
            "pytorch_model.bin:  31% 713M/2.33G [00:09<00:29, 54.9MB/s]\u001b[A\n",
            "pytorch_model.bin:  32% 734M/2.33G [00:10<00:24, 65.9MB/s]\u001b[A\n",
            "pytorch_model.bin:  32% 755M/2.33G [00:10<00:19, 81.8MB/s]\u001b[A\n",
            "pytorch_model.bin:  33% 776M/2.33G [00:10<00:19, 78.0MB/s]\u001b[A\n",
            "pytorch_model.bin:  34% 797M/2.33G [00:10<00:18, 84.1MB/s]\u001b[A\n",
            "pytorch_model.bin:  35% 818M/2.33G [00:10<00:15, 94.6MB/s]\u001b[A\n",
            "pytorch_model.bin:  36% 839M/2.33G [00:10<00:15, 96.7MB/s]\u001b[A\n",
            "pytorch_model.bin:  37% 860M/2.33G [00:11<00:14, 104MB/s] \u001b[A\n",
            "pytorch_model.bin:  38% 881M/2.33G [00:11<00:15, 93.7MB/s]\u001b[A\n",
            "pytorch_model.bin:  39% 902M/2.33G [00:11<00:19, 74.4MB/s]\u001b[A\n",
            "pytorch_model.bin:  39% 912M/2.33G [00:11<00:18, 77.0MB/s]\u001b[A\n",
            "pytorch_model.bin:  40% 933M/2.33G [00:12<00:14, 95.7MB/s]\u001b[A\n",
            "pytorch_model.bin:  41% 954M/2.33G [00:12<00:11, 115MB/s] \u001b[A\n",
            "pytorch_model.bin:  42% 975M/2.33G [00:12<00:10, 133MB/s]\u001b[A\n",
            "pytorch_model.bin:  43% 996M/2.33G [00:12<00:08, 148MB/s]\u001b[A\n",
            "pytorch_model.bin:  44% 1.02G/2.33G [00:12<00:09, 139MB/s]\u001b[A\n",
            "pytorch_model.bin:  45% 1.04G/2.33G [00:12<00:09, 135MB/s]\u001b[A\n",
            "pytorch_model.bin:  45% 1.06G/2.33G [00:12<00:08, 144MB/s]\u001b[A\n",
            "pytorch_model.bin:  46% 1.08G/2.33G [00:12<00:08, 151MB/s]\u001b[A\n",
            "pytorch_model.bin:  47% 1.10G/2.33G [00:13<00:07, 156MB/s]\u001b[A\n",
            "pytorch_model.bin:  48% 1.12G/2.33G [00:13<00:07, 156MB/s]\u001b[A\n",
            "pytorch_model.bin:  49% 1.14G/2.33G [00:13<00:07, 160MB/s]\u001b[A\n",
            "pytorch_model.bin:  50% 1.16G/2.33G [00:13<00:07, 164MB/s]\u001b[A\n",
            "pytorch_model.bin:  51% 1.18G/2.33G [00:13<00:06, 165MB/s]\u001b[A\n",
            "pytorch_model.bin:  52% 1.21G/2.33G [00:13<00:06, 167MB/s]\u001b[A\n",
            "pytorch_model.bin:  53% 1.23G/2.33G [00:13<00:06, 170MB/s]\u001b[A\n",
            "pytorch_model.bin:  54% 1.25G/2.33G [00:13<00:06, 173MB/s]\u001b[A\n",
            "pytorch_model.bin:  54% 1.27G/2.33G [00:14<00:06, 175MB/s]\u001b[A\n",
            "pytorch_model.bin:  55% 1.29G/2.33G [00:14<00:05, 176MB/s]\u001b[A\n",
            "pytorch_model.bin:  56% 1.31G/2.33G [00:14<00:05, 176MB/s]\u001b[A\n",
            "pytorch_model.bin:  57% 1.33G/2.33G [00:14<00:05, 177MB/s]\u001b[A\n",
            "pytorch_model.bin:  58% 1.35G/2.33G [00:14<00:05, 177MB/s]\u001b[A\n",
            "pytorch_model.bin:  59% 1.37G/2.33G [00:14<00:05, 172MB/s]\u001b[A\n",
            "pytorch_model.bin:  60% 1.39G/2.33G [00:14<00:05, 169MB/s]\u001b[A\n",
            "pytorch_model.bin:  61% 1.42G/2.33G [00:14<00:05, 170MB/s]\u001b[A\n",
            "pytorch_model.bin:  62% 1.44G/2.33G [00:15<00:05, 169MB/s]\u001b[A\n",
            "pytorch_model.bin:  63% 1.46G/2.33G [00:15<00:05, 169MB/s]\u001b[A\n",
            "pytorch_model.bin:  63% 1.48G/2.33G [00:17<00:36, 23.4MB/s]\u001b[A\n",
            "pytorch_model.bin:  64% 1.50G/2.33G [00:17<00:26, 31.6MB/s]\u001b[A\n",
            "pytorch_model.bin:  65% 1.52G/2.33G [00:18<00:19, 41.8MB/s]\u001b[A\n",
            "pytorch_model.bin:  66% 1.54G/2.33G [00:18<00:14, 54.4MB/s]\u001b[A\n",
            "pytorch_model.bin:  67% 1.56G/2.33G [00:18<00:11, 68.7MB/s]\u001b[A\n",
            "pytorch_model.bin:  68% 1.58G/2.33G [00:18<00:09, 81.3MB/s]\u001b[A\n",
            "pytorch_model.bin:  69% 1.60G/2.33G [00:18<00:07, 96.0MB/s]\u001b[A\n",
            "pytorch_model.bin:  70% 1.63G/2.33G [00:18<00:06, 110MB/s] \u001b[A\n",
            "pytorch_model.bin:  71% 1.65G/2.33G [00:18<00:05, 124MB/s]\u001b[A\n",
            "pytorch_model.bin:  72% 1.67G/2.33G [00:18<00:04, 137MB/s]\u001b[A\n",
            "pytorch_model.bin:  72% 1.69G/2.33G [00:19<00:04, 148MB/s]\u001b[A\n",
            "pytorch_model.bin:  73% 1.71G/2.33G [00:19<00:03, 158MB/s]\u001b[A\n",
            "pytorch_model.bin:  74% 1.73G/2.33G [00:19<00:03, 164MB/s]\u001b[A\n",
            "pytorch_model.bin:  75% 1.75G/2.33G [00:19<00:03, 168MB/s]\u001b[A\n",
            "pytorch_model.bin:  76% 1.77G/2.33G [00:19<00:03, 165MB/s]\u001b[A\n",
            "pytorch_model.bin:  77% 1.79G/2.33G [00:19<00:03, 164MB/s]\u001b[A\n",
            "pytorch_model.bin:  78% 1.81G/2.33G [00:19<00:03, 165MB/s]\u001b[A\n",
            "pytorch_model.bin:  79% 1.84G/2.33G [00:19<00:02, 166MB/s]\u001b[A\n",
            "pytorch_model.bin:  80% 1.86G/2.33G [00:20<00:02, 167MB/s]\u001b[A\n",
            "pytorch_model.bin:  81% 1.88G/2.33G [00:21<00:13, 34.7MB/s]\u001b[A\n",
            "pytorch_model.bin:  81% 1.90G/2.33G [00:21<00:09, 45.6MB/s]\u001b[A\n",
            "pytorch_model.bin:  82% 1.92G/2.33G [00:22<00:07, 58.3MB/s]\u001b[A\n",
            "pytorch_model.bin:  83% 1.94G/2.33G [00:22<00:05, 67.5MB/s]\u001b[A\n",
            "pytorch_model.bin:  84% 1.96G/2.33G [00:22<00:04, 77.1MB/s]\u001b[A\n",
            "pytorch_model.bin:  85% 1.98G/2.33G [00:22<00:04, 72.0MB/s]\u001b[A\n",
            "pytorch_model.bin:  86% 2.00G/2.33G [00:23<00:04, 68.5MB/s]\u001b[A\n",
            "pytorch_model.bin:  86% 2.01G/2.33G [00:23<00:05, 63.3MB/s]\u001b[A\n",
            "pytorch_model.bin:  87% 2.02G/2.33G [00:23<00:04, 62.5MB/s]\u001b[A\n",
            "pytorch_model.bin:  88% 2.04G/2.33G [00:23<00:03, 75.1MB/s]\u001b[A\n",
            "pytorch_model.bin:  88% 2.06G/2.33G [00:23<00:03, 71.3MB/s]\u001b[A\n",
            "pytorch_model.bin:  89% 2.07G/2.33G [00:23<00:03, 70.9MB/s]\u001b[A\n",
            "pytorch_model.bin:  89% 2.08G/2.33G [00:24<00:04, 60.3MB/s]\u001b[A\n",
            "pytorch_model.bin:  90% 2.10G/2.33G [00:24<00:02, 82.8MB/s]\u001b[A\n",
            "pytorch_model.bin:  91% 2.12G/2.33G [00:24<00:02, 101MB/s] \u001b[A\n",
            "pytorch_model.bin:  92% 2.14G/2.33G [00:24<00:01, 117MB/s]\u001b[A\n",
            "pytorch_model.bin:  93% 2.16G/2.33G [00:24<00:01, 129MB/s]\u001b[A\n",
            "pytorch_model.bin:  94% 2.18G/2.33G [00:24<00:01, 139MB/s]\u001b[A\n",
            "pytorch_model.bin:  95% 2.20G/2.33G [00:24<00:00, 150MB/s]\u001b[A\n",
            "pytorch_model.bin:  95% 2.22G/2.33G [00:25<00:00, 160MB/s]\u001b[A\n",
            "pytorch_model.bin:  96% 2.24G/2.33G [00:25<00:00, 166MB/s]\u001b[A\n",
            "pytorch_model.bin:  97% 2.26G/2.33G [00:25<00:00, 164MB/s]\u001b[A\n",
            "pytorch_model.bin:  98% 2.29G/2.33G [00:25<00:00, 165MB/s]\u001b[A\n",
            "pytorch_model.bin:  99% 2.31G/2.33G [00:25<00:00, 166MB/s]\u001b[A\n",
            "pytorch_model.bin: 100% 2.33G/2.33G [00:25<00:00, 90.5MB/s]\n",
            "model.safetensors:  27% 640M/2.33G [00:04<00:10, 158MB/s]"
          ]
        },
        {
          "name": "stderr",
          "output_type": "stream",
          "text": [
            "WARNING:pyngrok.process.ngrok:t=2025-07-07T16:06:48+0000 lvl=warn msg=\"failed to open private leg\" id=95953b155f9d privaddr=localhost:5000 err=\"dial tcp 127.0.0.1:5000: connect: connection refused\"\n"
          ]
        },
        {
          "name": "stdout",
          "output_type": "stream",
          "text": [
            "model.safetensors:  30% 692M/2.33G [00:07<00:57, 28.6MB/s]\n",
            "tokenizer_config.json: 100% 375/375 [00:00<00:00, 1.69MB/s]\n",
            "model.safetensors:  32% 755M/2.33G [00:08<00:28, 56.1MB/s]\n",
            "model.safetensors:  34% 797M/2.33G [00:08<00:18, 80.9MB/s]\n",
            "spiece.model: 100% 4.31M/4.31M [00:00<00:00, 27.2MB/s]\n",
            "model.safetensors:  37% 870M/2.33G [00:08<00:10, 134MB/s]\n",
            "special_tokens_map.json: 100% 65.0/65.0 [00:00<00:00, 35.5kB/s]\n",
            "model.safetensors:  38% 891M/2.33G [00:08<00:09, 148MB/s]You are using the default legacy behaviour of the <class 'transformers.models.t5.tokenization_t5.T5Tokenizer'>. This is expected, and simply means that the `legacy` (previous) behavior will be used so nothing changes for you. If you want to use the new behaviour, set `legacy=False`. This should only be set if you understand what it means, and thoroughly read the reason why this was added as explained in https://github.com/huggingface/transformers/pull/24565\n"
          ]
        },
        {
          "name": "stderr",
          "output_type": "stream",
          "text": [
            "WARNING:pyngrok.process.ngrok:t=2025-07-07T16:06:50+0000 lvl=warn msg=\"failed to open private leg\" id=74515e075d91 privaddr=localhost:5000 err=\"dial tcp 127.0.0.1:5000: connect: connection refused\"\n"
          ]
        },
        {
          "name": "stdout",
          "output_type": "stream",
          "text": [
            "/usr/local/lib/python3.11/dist-packages/transformers/convert_slow_tokenizer.py:564: UserWarning: The sentencepiece tokenizer that you are converting to a fast tokenizer uses the byte fallback option which is not implemented in the fast tokenizers. In practice this means that the fast version of the tokenizer can produce unknown tokens whereas the sentencepiece version would have converted these unknown tokens into a sequence of byte tokens matching the original piece of text.\n",
            "  warnings.warn(\n",
            "Device set to use cuda:0\n",
            "model.safetensors:  43% 996M/2.33G [00:12<00:20, 65.8MB/s]UPLOAD FOLDER PATH: /uploads\n",
            "Running cleanup check...\n",
            "Current working directory: /content\n",
            "Files in upload folder at startup: []\n",
            "Starting Flask server...\n",
            "Cleanup finished, next run in 1.0 hours\n",
            " * Serving Flask app 'app'\n",
            " * Debug mode: on\n",
            "INFO:werkzeug:\u001b[31m\u001b[1mWARNING: This is a development server. Do not use it in a production deployment. Use a production WSGI server instead.\u001b[0m\n",
            " * Running on all addresses (0.0.0.0)\n",
            " * Running on http://127.0.0.1:5000\n",
            " * Running on http://172.28.0.12:5000\n",
            "INFO:werkzeug:\u001b[33mPress CTRL+C to quit\u001b[0m\n",
            "INFO:werkzeug: * Restarting with stat\n",
            "model.safetensors:  63% 1.47G/2.33G [00:19<00:42, 20.2MB/s]2025-07-07 16:07:00.671447: E external/local_xla/xla/stream_executor/cuda/cuda_fft.cc:477] Unable to register cuFFT factory: Attempting to register factory for plugin cuFFT when one has already been registered\n",
            "WARNING: All log messages before absl::InitializeLog() is called are written to STDERR\n",
            "E0000 00:00:1751904420.697474    1602 cuda_dnn.cc:8310] Unable to register cuDNN factory: Attempting to register factory for plugin cuDNN when one has already been registered\n",
            "E0000 00:00:1751904420.707063    1602 cuda_blas.cc:1418] Unable to register cuBLAS factory: Attempting to register factory for plugin cuBLAS when one has already been registered\n",
            "model.safetensors: 100% 2.33G/2.33G [00:28<00:00, 82.9MB/s]\n",
            "Device set to use cuda:0\n",
            "You are using the default legacy behaviour of the <class 'transformers.models.t5.tokenization_t5.T5Tokenizer'>. This is expected, and simply means that the `legacy` (previous) behavior will be used so nothing changes for you. If you want to use the new behaviour, set `legacy=False`. This should only be set if you understand what it means, and thoroughly read the reason why this was added as explained in https://github.com/huggingface/transformers/pull/24565\n",
            "/usr/local/lib/python3.11/dist-packages/transformers/convert_slow_tokenizer.py:564: UserWarning: The sentencepiece tokenizer that you are converting to a fast tokenizer uses the byte fallback option which is not implemented in the fast tokenizers. In practice this means that the fast version of the tokenizer can produce unknown tokens whereas the sentencepiece version would have converted these unknown tokens into a sequence of byte tokens matching the original piece of text.\n",
            "  warnings.warn(\n",
            "Device set to use cuda:0\n",
            "UPLOAD FOLDER PATH: /uploads\n",
            "Running cleanup check...\n",
            "Current working directory: /content\n",
            "Files in upload folder at startup: []\n",
            "Starting Flask server...\n",
            "Cleanup finished, next run in 1.0 hours\n",
            "WARNING:werkzeug: * Debugger is active!\n",
            "INFO:werkzeug: * Debugger PIN: 128-108-438\n",
            "Context teardown triggered\n",
            "INFO:werkzeug:127.0.0.1 - - [07/Jul/2025 16:08:28] \"GET / HTTP/1.1\" 200 -\n",
            "Context teardown triggered\n",
            "INFO:werkzeug:127.0.0.1 - - [07/Jul/2025 16:08:29] \"\u001b[33mGET /favicon.ico HTTP/1.1\u001b[0m\" 404 -\n",
            "Context teardown triggered\n",
            "INFO:werkzeug:127.0.0.1 - - [07/Jul/2025 16:13:33] \"GET / HTTP/1.1\" 200 -\n",
            "Context teardown triggered\n",
            "INFO:werkzeug:127.0.0.1 - - [07/Jul/2025 16:13:34] \"\u001b[33mGET /favicon.ico HTTP/1.1\u001b[0m\" 404 -\n",
            "Serving audio file: /audio_outputs/Science_Textbook_Chapter_pdf_en-us_female_1750982208.mp3\n",
            "File exists: False\n",
            "ERROR: Audio file not found: /audio_outputs/Science_Textbook_Chapter_pdf_en-us_female_1750982208.mp3\n",
            "Files available in /audio_outputs: []\n",
            "Context teardown triggered\n",
            "INFO:werkzeug:127.0.0.1 - - [07/Jul/2025 16:15:27] \"\u001b[33mHEAD /api/audio/Science_Textbook_Chapter_pdf_en-us_female_1750982208.mp3 HTTP/1.1\u001b[0m\" 404 -\n",
            "Serving audio file: /audio_outputs/Science_Textbook_Chapter_pdf_en-us_female_1750982208.mp3\n",
            "File exists: False\n",
            "ERROR: Audio file not found: /audio_outputs/Science_Textbook_Chapter_pdf_en-us_female_1750982208.mp3\n",
            "Files available in /audio_outputs: []\n",
            "Context teardown triggered\n",
            "INFO:werkzeug:127.0.0.1 - - [07/Jul/2025 16:15:27] \"\u001b[33mHEAD /api/audio/Science_Textbook_Chapter_pdf_en-us_female_1750982208.mp3 HTTP/1.1\u001b[0m\" 404 -\n",
            "Context teardown triggered\n",
            "INFO:werkzeug:127.0.0.1 - - [07/Jul/2025 16:17:21] \"\u001b[33mGET /favicon.ico HTTP/1.1\u001b[0m\" 404 -\n",
            "Serving audio file: /audio_outputs/Science_Textbook_Chapter_pdf_en-us_child_1750982247.mp3\n",
            "File exists: False\n",
            "ERROR: Audio file not found: /audio_outputs/Science_Textbook_Chapter_pdf_en-us_child_1750982247.mp3\n",
            "Files available in /audio_outputs: []\n",
            "Context teardown triggered\n",
            "INFO:werkzeug:127.0.0.1 - - [07/Jul/2025 16:18:42] \"\u001b[33mHEAD /api/audio/Science_Textbook_Chapter_pdf_en-us_child_1750982247.mp3 HTTP/1.1\u001b[0m\" 404 -\n",
            "Context teardown triggered\n",
            "INFO:werkzeug:127.0.0.1 - - [07/Jul/2025 16:36:59] \"\u001b[33mGET /favicon.ico HTTP/1.1\u001b[0m\" 404 -\n",
            "Running cleanup check...\n",
            "Cleanup finished, next run in 1.0 hours\n",
            "Running cleanup check...\n",
            "Cleanup finished, next run in 1.0 hours\n"
          ]
        }
      ],
      "source": [
        "!python app.py --no-debug --no-reload"
      ]
    }
  ],
  "metadata": {
    "accelerator": "GPU",
    "colab": {
      "gpuType": "T4",
      "provenance": []
    },
    "kernelspec": {
      "display_name": "Python 3",
      "name": "python3"
    },
    "language_info": {
      "name": "python"
    }
  },
  "nbformat": 4,
  "nbformat_minor": 0
}
